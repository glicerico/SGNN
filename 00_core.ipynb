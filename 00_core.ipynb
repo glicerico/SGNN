{
 "cells": [
  {
   "cell_type": "code",
   "execution_count": null,
   "metadata": {},
   "outputs": [],
   "source": [
    "# default_exp core"
   ]
  },
  {
   "cell_type": "markdown",
   "metadata": {},
   "source": [
    "# SGNN\n",
    "\n",
    "> Implementation of Self-Governing Neural Networks for speech act classification\n",
    "\n",
    "Implementation of the [SGNN paper](https://www.aclweb.org/anthology/D19-1402.pdf) for speech act classification.\n",
    "This repository is inspired by Guillaume Chevalier's [implementation](https://github.com/guillaume-chevalier/SGNN-Self-Governing-Neural-Networks-Projection-Layer), as well as his [discussion](https://github.com/guillaume-chevalier/SGNN-Self-Governing-Neural-Networks-Projection-Layer/issues/1) with [Sava Kalbachou](https://github.com/thinline).\n",
    "This version implements some things differently from Guillaume's code, and extends beyond the projection layer all the way to a fully trainable network.\n",
    "\n",
    "The network is trained to classify the [SwDA corpus](https://web.stanford.edu/~jurafsky/ws97/) utterances according to their speech act. The corpus was was pre-processed using Cristopher Pott's [project](https://github.com/cgpotts/swda/) related to it; the pre-processed data is included in [`data/swda-acttags-and-text.csv`](data/swda-acttags-and-text.csv) for repeateability."
   ]
  },
  {
   "cell_type": "code",
   "execution_count": null,
   "metadata": {},
   "outputs": [],
   "source": [
    "#hide\n",
    "from nbdev.showdoc import *"
   ]
  },
  {
   "cell_type": "markdown",
   "metadata": {},
   "source": [
    "We first import the data from file"
   ]
  },
  {
   "cell_type": "code",
   "execution_count": null,
   "metadata": {},
   "outputs": [],
   "source": [
    "# export\n",
    "import pandas as pd\n",
    "\n",
    "data_filepath = 'data/swda-acttags-and-text.csv'\n",
    "data = pd.read_csv(data_filepath)"
   ]
  },
  {
   "cell_type": "code",
   "execution_count": null,
   "metadata": {},
   "outputs": [],
   "source": [
    "# See the data\n",
    "data.describe"
   ]
  },
  {
   "cell_type": "markdown",
   "metadata": {},
   "source": [
    "Divide data in test and train sets"
   ]
  },
  {
   "cell_type": "code",
   "execution_count": null,
   "metadata": {},
   "outputs": [],
   "source": [
    "from sklearn.model_selection import train_test_split\n",
    "import numpy as np\n",
    "\n",
    "data = data.dropna(axis=0)  # Drop rows with NA values\n",
    "y = data.DamslActTag\n",
    "X = data.Text\n",
    "X_train,X_test,y_train,y_test=train_test_split(X,y,test_size=0.2)"
   ]
  },
  {
   "cell_type": "markdown",
   "metadata": {},
   "source": [
    "See the data division"
   ]
  },
  {
   "cell_type": "code",
   "execution_count": null,
   "metadata": {},
   "outputs": [],
   "source": [
    "print(X_train.head(),\"\\n\", y_train.head())"
   ]
  },
  {
   "cell_type": "markdown",
   "metadata": {},
   "source": [
    "## Let's build SGNN the pipeline for processing the data"
   ]
  },
  {
   "cell_type": "code",
   "execution_count": null,
   "metadata": {},
   "outputs": [],
   "source": [
    "#export\n",
    "\n",
    "# CountVectorizer Parameters\n",
    "char_ngram_range = (1, 4)\n",
    "\n",
    "char_term_frequency_params = {\n",
    "    'char_term_frequency__analyzer': 'char',\n",
    "    'char_term_frequency__lowercase': True,\n",
    "    'char_term_frequency__ngram_range': char_ngram_range,\n",
    "    'char_term_frequency__strip_accents': None,\n",
    "    'char_term_frequency__min_df': 2,\n",
    "    'char_term_frequency__max_df': 0.99,\n",
    "    'char_term_frequency__max_features': int(1e7),\n",
    "}"
   ]
  },
  {
   "cell_type": "code",
   "execution_count": null,
   "metadata": {},
   "outputs": [],
   "source": [
    "#export \n",
    "import scipy.sparse as sp\n",
    "\n",
    "T = 80\n",
    "d = 14\n",
    "# T=80 projections for each of dimension d=14: 80 * 14 = 1120-dimensionnal word projections.\n",
    "hashing_feature_union_params = {\n",
    "    **{'union__sparse_random_projection_hasher_{}__n_components'.format(t): d\n",
    "       for t in range(T)\n",
    "    },\n",
    "    **{'union__sparse_random_projection_hasher_{}__dense_output'.format(t): False  # only AFTER hashing.\n",
    "       for t in range(T)\n",
    "    }\n",
    "}"
   ]
  },
  {
   "cell_type": "code",
   "execution_count": null,
   "metadata": {},
   "outputs": [],
   "source": [
    "from sklearn.feature_extraction.text import CountVectorizer\n",
    "from sklearn.pipeline import Pipeline, FeatureUnion\n",
    "from sklearn.random_projection import SparseRandomProjection\n",
    "from sklearn.neural_network import MLPClassifier\n",
    "\n",
    "params = dict()\n",
    "params.update(char_term_frequency_params)\n",
    "params.update(hashing_feature_union_params)\n",
    "\n",
    "preprocessor = Pipeline([\n",
    "    (\"char_term_frequency\", CountVectorizer()),\n",
    "    ('union', FeatureUnion([\n",
    "        ('sparse_random_projection_hasher_{}'.format(t), SparseRandomProjection())\n",
    "        for t in range(T)\n",
    "    ])),\n",
    "])\n",
    "preprocessor.set_params(**params)"
   ]
  },
  {
   "cell_type": "code",
   "execution_count": null,
   "metadata": {},
   "outputs": [],
   "source": [
    "pipe = Pipeline([\n",
    "    ('preprocessor', preprocessor),\n",
    "    ('neuralnet', MLPClassifier(\n",
    "        hidden_layer_sizes=(256, 256), activation='logistic', solver='sgd', \n",
    "        batch_size=100, learning_rate='adaptive', learning_rate_init=0.025,\n",
    "        verbose=True\n",
    "        )\n",
    "    )\n",
    "])\n",
    "\n",
    "pipe.fit(X_train, y_train)"
   ]
  },
  {
   "cell_type": "code",
   "execution_count": null,
   "metadata": {},
   "outputs": [],
   "source": [
    "pipe.score(X_test, y_test)"
   ]
  }
 ],
 "metadata": {
  "kernelspec": {
   "display_name": "Python 3",
   "language": "python",
   "name": "python3"
  }
 },
 "nbformat": 4,
 "nbformat_minor": 2
}
