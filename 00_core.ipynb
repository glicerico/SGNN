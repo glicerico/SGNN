{
 "cells": [
  {
   "cell_type": "code",
   "execution_count": null,
   "metadata": {},
   "outputs": [],
   "source": [
    "# default_exp core"
   ]
  },
  {
   "cell_type": "markdown",
   "metadata": {},
   "source": [
    "# SGNN\n",
    "\n",
    "> Implementation of Self-Governing Neural Networks for speech act classification\n",
    "\n",
    "Implementation of the [SGNN paper](https://www.aclweb.org/anthology/D19-1402.pdf) for speech act classification.\n",
    "This repository is inspired by Guillaume Chevalier's [implementation](https://github.com/guillaume-chevalier/SGNN-Self-Governing-Neural-Networks-Projection-Layer), as well as his [discussion](https://github.com/guillaume-chevalier/SGNN-Self-Governing-Neural-Networks-Projection-Layer/issues/1) with [Sava Kalbachou](https://github.com/thinline).\n",
    "This version implements some things differently from Guillaume's code, and extends beyond the projection layer all the way to a fully trainable network.\n",
    "\n",
    "The network is trained to classify the [SwDA corpus](https://web.stanford.edu/~jurafsky/ws97/) utterances according to their speech act. The corpus was was pre-processed using Cristopher Pott's [project](https://github.com/cgpotts/swda/) related to it; the pre-processed data is included in [`data/swda-acttags-and-text.csv`](data/swda-acttags-and-text.csv) for repeateability."
   ]
  },
  {
   "cell_type": "code",
   "execution_count": null,
   "metadata": {},
   "outputs": [],
   "source": [
    "#hide\n",
    "from nbdev.showdoc import *"
   ]
  },
  {
   "cell_type": "markdown",
   "metadata": {},
   "source": [
    "We first import the data from file"
   ]
  },
  {
   "cell_type": "code",
   "execution_count": null,
   "metadata": {},
   "outputs": [],
   "source": [
    "import pandas as pd\n",
    "data_filepath = '/home/andres/repositories/SGNN/data/swda-acttags-and-text.csv'\n",
    "\n",
    "data = pd.read_csv(data_filepath)"
   ]
  },
  {
   "cell_type": "code",
   "execution_count": null,
   "metadata": {},
   "outputs": [],
   "source": [
    "# See the data\n",
    "data.describe"
   ]
  },
  {
   "cell_type": "markdown",
   "metadata": {},
   "source": [
    "Divide data in test and train sets"
   ]
  },
  {
   "cell_type": "code",
   "execution_count": null,
   "metadata": {},
   "outputs": [],
   "source": [
    "#export\n",
    "import numpy as np\n",
    "import pandas as pd\n",
    "from sklearn.model_selection import train_test_split\n",
    "\n",
    "def import_data(filepath):\n",
    "    data = pd.read_csv(data_filepath)\n",
    "    data = data.dropna(axis=0)  # Drop rows with NA values\n",
    "    y = data.DamslActTag\n",
    "    X = data.Text\n",
    "    return X, y"
   ]
  },
  {
   "cell_type": "code",
   "execution_count": null,
   "metadata": {},
   "outputs": [],
   "source": [
    "X, y = import_data(data_filepath)\n",
    "X_train, X_test, y_train, y_test = train_test_split(X, y, test_size=0.2, stratify=y)"
   ]
  },
  {
   "cell_type": "markdown",
   "metadata": {},
   "source": [
    "See the data division"
   ]
  },
  {
   "cell_type": "code",
   "execution_count": null,
   "metadata": {},
   "outputs": [],
   "source": [
    "print(X_train.head(),\"\\n\", y_train.head())"
   ]
  },
  {
   "cell_type": "markdown",
   "metadata": {},
   "source": [
    "Convert the data labels to one-hot vectors"
   ]
  },
  {
   "cell_type": "markdown",
   "metadata": {},
   "source": [
    "## Let's build SGNN the pipeline for processing the data"
   ]
  },
  {
   "cell_type": "code",
   "execution_count": null,
   "metadata": {},
   "outputs": [],
   "source": [
    "#export\n",
    "import scipy.sparse as sp\n",
    "import random as rand\n",
    "from sklearn.base import BaseEstimator\n",
    "import numpy as np\n",
    "import scipy.sparse\n",
    "from sklearn.feature_extraction.text import CountVectorizer\n",
    "from sklearn.pipeline import Pipeline, FeatureUnion\n",
    "from nearpy.hashes import RandomBinaryProjections\n",
    "\n",
    "class MyRBP(BaseEstimator, RandomBinaryProjections):\n",
    "    rand_seed = None  # Declare it as class variable\n",
    "    def __init__(self, hash_name='hasher', projection_count=1, rand_seed=None):\n",
    "        RandomBinaryProjections.__init__(self, hash_name, projection_count, rand_seed=rand_seed)\n",
    "        \n",
    "    def fit(self, X, y):\n",
    "        self.rand = np.random.RandomState(self.rand_seed)  # rand seed after param setting\n",
    "        self.reset(X.shape[1])\n",
    "        \n",
    "    def transform(self, X):\n",
    "        return self.hash_vector(X)\n",
    "\n",
    "    def fit_transform(self, X, y):\n",
    "        self.fit(X, y)\n",
    "        return self.transform(X)\n",
    "    \n",
    "    def hash_vector(self, v, querying=False):\n",
    "        \"\"\"\n",
    "        Hashes the vector and returns the binary bucket key as string.\n",
    "        \"\"\"\n",
    "        if scipy.sparse.issparse(v):\n",
    "            # If vector is sparse, make sure we have the CSR representation\n",
    "            # of the projection matrix\n",
    "            if self.normals_csr == None:\n",
    "                self.normals_csr = scipy.sparse.csr_matrix(self.normals)\n",
    "            # Make sure that we are using CSR format for multiplication\n",
    "            if not scipy.sparse.isspmatrix_csr(v):\n",
    "                v = scipy.sparse.csr_matrix(v)\n",
    "            # Project vector onto all hyperplane normals\n",
    "            # projection = self.normals_csr.dot(v)\n",
    "            projection = v.dot(scipy.sparse.csr_matrix.transpose(self.normals_csr))\n",
    "        else:\n",
    "            # Project vector onto all hyperplane normals\n",
    "            projection = np.dot(v, np.matrix.transpose(self.normals))\n",
    "        # Return binary key\n",
    "        return projection > 0"
   ]
  },
  {
   "cell_type": "code",
   "execution_count": null,
   "metadata": {},
   "outputs": [],
   "source": [
    "#export\n",
    "\n",
    "def build_preprocessor(T=80, d=14, char_ngram_range=(1, 4)):\n",
    "    # T=80 projections for each of dimension d=14: 80 * 14 = 1120-dimensionnal word projections\n",
    "\n",
    "    char_term_frequency_params = {\n",
    "        'char_term_frequency__analyzer': 'char',\n",
    "        'char_term_frequency__lowercase': True,\n",
    "        'char_term_frequency__ngram_range': char_ngram_range,\n",
    "        'char_term_frequency__strip_accents': None,\n",
    "        'char_term_frequency__min_df': 2,\n",
    "        'char_term_frequency__max_df': 0.99,\n",
    "        'char_term_frequency__max_features': int(1e7),\n",
    "    }\n",
    "\n",
    "    rand_seeds = [rand.randint(0,T*100) for i in range(T)] # Need a different seed for each hasher\n",
    "\n",
    "    hashing_feature_union_params = {\n",
    "        **{'union__random_binary_projection_hasher_{}__projection_count'.format(t): d\n",
    "           for t in range(T)\n",
    "        },\n",
    "        **{'union__random_binary_projection_hasher_{}__hash_name'.format(t): 'hasher' + str(t)\n",
    "           for t in range(T)\n",
    "        },\n",
    "        **{'union__random_binary_projection_hasher_{}__rand_seed'.format(t): rand_seeds[t]  # only AFTER hashing.\n",
    "           for t in range(T)\n",
    "        }\n",
    "    }\n",
    "\n",
    "    preprocessor = Pipeline([\n",
    "        (\"char_term_frequency\", CountVectorizer()),\n",
    "        ('union', FeatureUnion([\n",
    "            ('random_binary_projection_hasher_{}'.format(t), MyRBP())\n",
    "            for t in range(T)\n",
    "        ]))\n",
    "    ])\n",
    "    \n",
    "    params = dict()\n",
    "    params.update(char_term_frequency_params)\n",
    "    params.update(hashing_feature_union_params)\n",
    "    preprocessor.set_params(**params)\n",
    "    return preprocessor"
   ]
  },
  {
   "cell_type": "code",
   "execution_count": null,
   "metadata": {},
   "outputs": [],
   "source": [
    "preprocessor = build_preprocessor()\n",
    "preprocessor.fit_transform([\"Esta es na pruebs\",\"fadsf\", \"Oh no fasd\", \"fasdfaaaaaaaa\" ])"
   ]
  },
  {
   "cell_type": "code",
   "execution_count": null,
   "metadata": {},
   "outputs": [],
   "source": [
    "#export\n",
    "import tensorflow as tf\n",
    "\n",
    "def build_keras_model():\n",
    "    model = tf.keras.Sequential(train_labels)\n",
    "    model.add(tf.keras.layers.Dense(256, activation=tf.nn.sigmoid, input_shape=(1120,)))\n",
    "    model.add(tf.keras.layers.Dropout(0.25))\n",
    "    model.add(tf.keras.layers.Dense(256, activation=tf.nn.sigmoid))\n",
    "    model.add(tf.keras.layers.Dropout(0.25))\n",
    "    model.add(tf.keras.layers.Dense(train_labels.shape[1], activation=tf.nn.softmax))\n",
    "\n",
    "    # Cosine annealing decay\n",
    "    lr_schedule = tf.keras.experimental.CosineDecay(0.025, decay_steps=1000000)\n",
    "    # SGD optimizer with Nesterov momentum\n",
    "    opt = tf.keras.optimizers.SGD(nesterov=True, learning_rate=lr_schedule)\n",
    "    #opt = tf.keras.optimizers.SGD(nesterov=True)\n",
    "    model.compile(loss='categorical_crossentropy',\n",
    "                  optimizer=opt,\n",
    "                  metrics=['accuracy'])\n",
    "\n",
    "    return model"
   ]
  },
  {
   "cell_type": "code",
   "execution_count": null,
   "metadata": {},
   "outputs": [],
   "source": [
    "#export\n",
    "EPOCHS=50\n",
    "BATCH_SIZE=100\n",
    "data_filepath = \"/home/andres/repositories/SGNN/data/swda-acttags-and-text.csv\"\n",
    "\n",
    "def main():\n",
    "    X, y = import_data(data_filepath)\n",
    "    X_train, X_test, y_train, y_test = train_test_split(X, y, test_size=0.2, stratify=y)\n",
    "    \n",
    "    # Convert categories to one-hot-encodings, as apparently needed by keras\n",
    "    train_labels = tf.keras.utils.to_categorical(y_train)\n",
    "    test_labels = tf.keras.utils.to_categorical(y_test)\n",
    "    \n",
    "    preprocessor = build_preprocessor()\n",
    "    keras_model = build_keras_model(train_labels)\n",
    "    \n",
    "    train_features = preprocessor.fit_transform(X_train)\n",
    "\n",
    "    keras_model.fit(train_features, train_labels, epochs=EPOCHS, batch_size=BATCH_SIZE)\n",
    "    test_features = preprocessor.transform(X_test)\n",
    "    keras_model.evaluate(test_features, test_labels)"
   ]
  },
  {
   "cell_type": "code",
   "execution_count": null,
   "metadata": {},
   "outputs": [],
   "source": [
    "#export\n",
    "main()"
   ]
  },
  {
   "cell_type": "code",
   "execution_count": null,
   "metadata": {},
   "outputs": [],
   "source": []
  }
 ],
 "metadata": {
  "kernelspec": {
   "display_name": "Python 3",
   "language": "python",
   "name": "python3"
  }
 },
 "nbformat": 4,
 "nbformat_minor": 2
}
