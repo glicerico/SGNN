{
 "cells": [
  {
   "cell_type": "code",
   "execution_count": null,
   "metadata": {},
   "outputs": [],
   "source": [
    "# default_exp core"
   ]
  },
  {
   "cell_type": "markdown",
   "metadata": {},
   "source": [
    "# SGNN\n",
    "\n",
    "> Implementation of Self-Governing Neural Networks for speech act classification\n",
    "\n",
    "Implementation of the [SGNN paper](https://www.aclweb.org/anthology/D19-1402.pdf) for speech act classification.\n",
    "This repository is inspired by Guillaume Chevalier's [implementation](https://github.com/guillaume-chevalier/SGNN-Self-Governing-Neural-Networks-Projection-Layer), as well as his [discussion](https://github.com/guillaume-chevalier/SGNN-Self-Governing-Neural-Networks-Projection-Layer/issues/1) with [Sava Kalbachou](https://github.com/thinline).\n",
    "This version implements some things differently from Guillaume's code, and extends beyond the projection layer all the way to a fully trainable network.\n",
    "\n",
    "The network is trained to classify the [SwDA corpus](https://web.stanford.edu/~jurafsky/ws97/) utterances according to their speech act. The corpus was was pre-processed using Cristopher Pott's [project](https://github.com/cgpotts/swda/) related to it; the pre-processed data is included in [`data/swda-acttags-and-text.csv`](data/swda-acttags-and-text.csv) for repeateability."
   ]
  },
  {
   "cell_type": "code",
   "execution_count": null,
   "metadata": {},
   "outputs": [],
   "source": [
    "#hide\n",
    "from nbdev.showdoc import *"
   ]
  },
  {
   "cell_type": "markdown",
   "metadata": {},
   "source": [
    "We first import the data from file"
   ]
  },
  {
   "cell_type": "code",
   "execution_count": null,
   "metadata": {},
   "outputs": [],
   "source": [
    "# export\n",
    "import pandas as pd\n",
    "\n",
    "data_filepath = 'data/swda-acttags-and-text.csv'\n",
    "data = pd.read_csv(data_filepath)"
   ]
  },
  {
   "cell_type": "code",
   "execution_count": null,
   "metadata": {},
   "outputs": [
    {
     "data": {
      "text/plain": [
       "<bound method NDFrame.describe of        DamslActTag                                               Text\n",
       "0               ad               So, uh, describe your family budget.\n",
       "1               sd  Well, I've, uh, for a lot of years I, I've pre...\n",
       "2               sd  and, uh, just recently, uh, we, we set up a bu...\n",
       "3               sd              and, and we're trying to stick to it.\n",
       "4               sd                        We just bought a new house.\n",
       "...            ...                                                ...\n",
       "221611           %                                           so, yeah\n",
       "221612          sd                                               I --\n",
       "221613           %                                         I don't, -\n",
       "221614           +  -- pretty much plan on, I mean, so far I'm pla...\n",
       "221615          ba                                   That's good, uh,\n",
       "\n",
       "[221616 rows x 2 columns]>"
      ]
     },
     "execution_count": null,
     "metadata": {},
     "output_type": "execute_result"
    }
   ],
   "source": [
    "# See the data\n",
    "data.describe"
   ]
  },
  {
   "cell_type": "markdown",
   "metadata": {},
   "source": [
    "Divide data in test and train sets"
   ]
  },
  {
   "cell_type": "code",
   "execution_count": null,
   "metadata": {},
   "outputs": [],
   "source": [
    "from sklearn.model_selection import train_test_split\n",
    "import numpy as np\n",
    "\n",
    "data = data.dropna(axis=0)  # Drop rows with NA values\n",
    "y = data.DamslActTag\n",
    "X = data.Text\n",
    "X_train,X_test,y_train,y_test=train_test_split(X,y,test_size=0.2)"
   ]
  },
  {
   "cell_type": "markdown",
   "metadata": {},
   "source": [
    "See the data division"
   ]
  },
  {
   "cell_type": "code",
   "execution_count": null,
   "metadata": {},
   "outputs": [
    {
     "name": "stdout",
     "output_type": "stream",
     "text": [
      "72033                           Is that all we need to say?\n",
      "130413    but there are enough laws on the books now tha...\n",
      "218667    # but, # uh, I think the longer you wait the e...\n",
      "91879                                      but still, uh, -\n",
      "197863                 -- straight down to the landing pad.\n",
      "Name: Text, dtype: object \n",
      " 72033     qy\n",
      "130413    sv\n",
      "218667    sv\n",
      "91879     sd\n",
      "197863     +\n",
      "Name: DamslActTag, dtype: object\n"
     ]
    }
   ],
   "source": [
    "print(X_train.head(),\"\\n\", y_train.head())"
   ]
  },
  {
   "cell_type": "markdown",
   "metadata": {},
   "source": [
    "## Let's build SGNN the pipeline for processing the data"
   ]
  },
  {
   "cell_type": "code",
   "execution_count": null,
   "metadata": {},
   "outputs": [],
   "source": [
    "#export\n",
    "\n",
    "# CountVectorizer Parameters\n",
    "char_ngram_range = (1, 4)\n",
    "\n",
    "char_term_frequency_params = {\n",
    "    'char_term_frequency__analyzer': 'char',\n",
    "    'char_term_frequency__lowercase': True,\n",
    "    'char_term_frequency__ngram_range': char_ngram_range,\n",
    "    'char_term_frequency__strip_accents': None,\n",
    "    'char_term_frequency__min_df': 2,\n",
    "    'char_term_frequency__max_df': 0.99,\n",
    "    'char_term_frequency__max_features': int(1e7),\n",
    "}"
   ]
  },
  {
   "cell_type": "code",
   "execution_count": null,
   "metadata": {},
   "outputs": [],
   "source": [
    "#export \n",
    "import scipy.sparse as sp\n",
    "\n",
    "T = 80\n",
    "d = 14\n",
    "# T=80 projections for each of dimension d=14: 80 * 14 = 1120-dimensionnal word projections.\n",
    "hashing_feature_union_params = {\n",
    "    **{'union__sparse_random_projection_hasher_{}__n_components'.format(t): d\n",
    "       for t in range(T)\n",
    "    },\n",
    "    **{'union__sparse_random_projection_hasher_{}__dense_output'.format(t): False  # only AFTER hashing.\n",
    "       for t in range(T)\n",
    "    }\n",
    "}"
   ]
  },
  {
   "cell_type": "code",
   "execution_count": null,
   "metadata": {},
   "outputs": [],
   "source": [
    "from sklearn.feature_extraction.text import CountVectorizer\n",
    "from sklearn.pipeline import Pipeline, FeatureUnion\n",
    "from sklearn.random_projection import SparseRandomProjection\n",
    "\n",
    "params = dict()\n",
    "params.update(char_term_frequency_params)\n",
    "# params.update(hashing_feature_union_params)\n",
    "\n",
    "pipeline = Pipeline([\n",
    "    (\"char_term_frequency\", CountVectorizer()),\n",
    "#     ('union', FeatureUnion([\n",
    "#         ('sparse_random_projection_hasher_{}'.format(t), SparseRandomProjection())\n",
    "#         for t in range(T)\n",
    "#     ]))\n",
    "])\n",
    "pipeline.set_params(**params)\n",
    "\n",
    "result = pipeline.fit_transform(X_train)"
   ]
  },
  {
   "cell_type": "code",
   "execution_count": null,
   "metadata": {},
   "outputs": [
    {
     "data": {
      "text/plain": [
       "<177288x41970 sparse matrix of type '<class 'numpy.int64'>'\n",
       "\twith 17865695 stored elements in Compressed Sparse Row format>"
      ]
     },
     "execution_count": null,
     "metadata": {},
     "output_type": "execute_result"
    }
   ],
   "source": [
    "result"
   ]
  },
  {
   "cell_type": "code",
   "execution_count": null,
   "metadata": {},
   "outputs": [],
   "source": []
  }
 ],
 "metadata": {
  "kernelspec": {
   "display_name": "Python 3",
   "language": "python",
   "name": "python3"
  }
 },
 "nbformat": 4,
 "nbformat_minor": 2
}
