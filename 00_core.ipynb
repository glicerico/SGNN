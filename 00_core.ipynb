{
 "cells": [
  {
   "cell_type": "code",
   "execution_count": null,
   "metadata": {},
   "outputs": [],
   "source": [
    "# default_exp core"
   ]
  },
  {
   "cell_type": "markdown",
   "metadata": {},
   "source": [
    "# SGNN\n",
    "\n",
    "> Implementation of Self-Governing Neural Networks for speech act classification\n",
    "\n",
    "Implementation of the [SGNN paper](https://www.aclweb.org/anthology/D19-1402.pdf) for speech act classification.\n",
    "This repository is inspired by Guillaume Chevalier's [implementation](https://github.com/guillaume-chevalier/SGNN-Self-Governing-Neural-Networks-Projection-Layer), as well as his [discussion](https://github.com/guillaume-chevalier/SGNN-Self-Governing-Neural-Networks-Projection-Layer/issues/1) with [Sava Kalbachou](https://github.com/thinline).\n",
    "This version implements some things differently from Guillaume's code, and extends beyond the projection layer all the way to a fully trainable network.\n",
    "\n",
    "The network is trained to classify the [SwDA corpus](https://web.stanford.edu/~jurafsky/ws97/) utterances according to their speech act. The corpus was was pre-processed using Cristopher Pott's [project](https://github.com/cgpotts/swda/) related to it; the pre-processed data is included in [`data/swda-acttags-and-text.csv`](data/swda-acttags-and-text.csv) for repeateability."
   ]
  },
  {
   "cell_type": "code",
   "execution_count": null,
   "metadata": {},
   "outputs": [],
   "source": [
    "#hide\n",
    "from nbdev.showdoc import *"
   ]
  },
  {
   "cell_type": "markdown",
   "metadata": {},
   "source": [
    "We first import the data from file"
   ]
  },
  {
   "cell_type": "code",
   "execution_count": null,
   "metadata": {},
   "outputs": [],
   "source": [
    "import pandas as pd\n",
    "data_filepath = '/home/andres/repositories/SGNN/data/swda-acttags-and-text.csv'\n",
    "\n",
    "data = pd.read_csv(data_filepath)"
   ]
  },
  {
   "cell_type": "code",
   "execution_count": null,
   "metadata": {},
   "outputs": [
    {
     "data": {
      "text/plain": [
       "<bound method NDFrame.describe of        DamslActTag                                               Text\n",
       "0               ad               So, uh, describe your family budget.\n",
       "1               sd  Well, I've, uh, for a lot of years I, I've pre...\n",
       "2               sd  and, uh, just recently, uh, we, we set up a bu...\n",
       "3               sd              and, and we're trying to stick to it.\n",
       "4               sd                        We just bought a new house.\n",
       "...            ...                                                ...\n",
       "221611           %                                           so, yeah\n",
       "221612          sd                                               I --\n",
       "221613           %                                         I don't, -\n",
       "221614           +  -- pretty much plan on, I mean, so far I'm pla...\n",
       "221615          ba                                   That's good, uh,\n",
       "\n",
       "[221616 rows x 2 columns]>"
      ]
     },
     "execution_count": null,
     "metadata": {},
     "output_type": "execute_result"
    }
   ],
   "source": [
    "# See the data\n",
    "data.describe"
   ]
  },
  {
   "cell_type": "markdown",
   "metadata": {},
   "source": [
    "Divide data in test and train sets"
   ]
  },
  {
   "cell_type": "code",
   "execution_count": null,
   "metadata": {},
   "outputs": [],
   "source": [
    "#export\n",
    "import numpy as np\n",
    "import pandas as pd\n",
    "from sklearn.model_selection import train_test_split\n",
    "from sklearn.preprocessing import LabelEncoder\n",
    "\n",
    "def import_data(filepath):\n",
    "    data = pd.read_csv(data_filepath)\n",
    "    data = data.dropna(axis=0)  # Drop rows with NA values\n",
    "    y = data.DamslActTag\n",
    "    X = data.Text\n",
    "    \n",
    "    # Convert labels to categories\n",
    "    le = LabelEncoder()\n",
    "    y = le.fit_transform(y)\n",
    "\n",
    "    return X, y"
   ]
  },
  {
   "cell_type": "code",
   "execution_count": null,
   "metadata": {},
   "outputs": [],
   "source": [
    "X, y = import_data(data_filepath)\n",
    "X_train, X_test, y_train, y_test = train_test_split(X, y, test_size=0.2, stratify=y)"
   ]
  },
  {
   "cell_type": "markdown",
   "metadata": {},
   "source": [
    "See the data division"
   ]
  },
  {
   "cell_type": "code",
   "execution_count": null,
   "metadata": {},
   "outputs": [],
   "source": [
    "# print(X_train.head(),\"\\n\", y_train.head())"
   ]
  },
  {
   "cell_type": "markdown",
   "metadata": {},
   "source": [
    "Convert the data labels to one-hot vectors"
   ]
  },
  {
   "cell_type": "markdown",
   "metadata": {},
   "source": [
    "## Let's build SGNN the pipeline for processing the data"
   ]
  },
  {
   "cell_type": "code",
   "execution_count": null,
   "metadata": {},
   "outputs": [],
   "source": [
    "#export\n",
    "import scipy.sparse as sp\n",
    "import random as rand\n",
    "from sklearn.base import BaseEstimator\n",
    "import numpy as np\n",
    "import scipy.sparse\n",
    "from sklearn.feature_extraction.text import CountVectorizer\n",
    "from sklearn.pipeline import Pipeline, FeatureUnion\n",
    "from nearpy.hashes import RandomBinaryProjections\n",
    "\n",
    "class MyRBP(BaseEstimator, RandomBinaryProjections):\n",
    "    rand_seed = None  # Declare it as class variable\n",
    "    def __init__(self, hash_name='hasher', projection_count=1, rand_seed=None):\n",
    "        RandomBinaryProjections.__init__(self, hash_name, projection_count, rand_seed=rand_seed)\n",
    "        \n",
    "    def fit(self, X, y):\n",
    "        self.rand = np.random.RandomState(self.rand_seed)  # rand seed after param setting\n",
    "        self.reset(X.shape[1])\n",
    "        \n",
    "    def transform(self, X):\n",
    "        return self.hash_vector(X)\n",
    "\n",
    "    def fit_transform(self, X, y):\n",
    "        self.fit(X, y)\n",
    "        return self.transform(X)\n",
    "    \n",
    "    def hash_vector(self, v, querying=False):\n",
    "        \"\"\"\n",
    "        Hashes the vector and returns the binary bucket key as string.\n",
    "        \"\"\"\n",
    "        if scipy.sparse.issparse(v):\n",
    "            # If vector is sparse, make sure we have the CSR representation\n",
    "            # of the projection matrix\n",
    "            if self.normals_csr == None:\n",
    "                self.normals_csr = scipy.sparse.csr_matrix(self.normals)\n",
    "            # Make sure that we are using CSR format for multiplication\n",
    "            if not scipy.sparse.isspmatrix_csr(v):\n",
    "                v = scipy.sparse.csr_matrix(v)\n",
    "            # Project vector onto all hyperplane normals\n",
    "            # projection = self.normals_csr.dot(v)\n",
    "            projection = v.dot(scipy.sparse.csr_matrix.transpose(self.normals_csr))\n",
    "        else:\n",
    "            # Project vector onto all hyperplane normals\n",
    "            projection = np.dot(v, np.matrix.transpose(self.normals))\n",
    "        # Return binary key\n",
    "        return projection > 0"
   ]
  },
  {
   "cell_type": "code",
   "execution_count": null,
   "metadata": {},
   "outputs": [],
   "source": [
    "#export\n",
    "\n",
    "def build_preprocessor(T=80, d=14, char_ngram_range=(1, 4)):\n",
    "    # T=80 projections for each of dimension d=14: 80 * 14 = 1120-dimensionnal word projections\n",
    "\n",
    "    char_term_frequency_params = {\n",
    "        'char_term_frequency__analyzer': 'char',\n",
    "        'char_term_frequency__lowercase': True,\n",
    "        'char_term_frequency__ngram_range': char_ngram_range,\n",
    "        'char_term_frequency__strip_accents': None,\n",
    "        'char_term_frequency__min_df': 2,\n",
    "        'char_term_frequency__max_df': 0.99,\n",
    "        'char_term_frequency__max_features': int(1e7),\n",
    "    }\n",
    "\n",
    "    rand_seeds = [rand.randint(0,T*100) for i in range(T)] # Need a different seed for each hasher\n",
    "\n",
    "    hashing_feature_union_params = {\n",
    "        **{'union__random_binary_projection_hasher_{}__projection_count'.format(t): d\n",
    "           for t in range(T)\n",
    "        },\n",
    "        **{'union__random_binary_projection_hasher_{}__hash_name'.format(t): 'hasher' + str(t)\n",
    "           for t in range(T)\n",
    "        },\n",
    "        **{'union__random_binary_projection_hasher_{}__rand_seed'.format(t): rand_seeds[t]  # only AFTER hashing.\n",
    "           for t in range(T)\n",
    "        }\n",
    "    }\n",
    "\n",
    "    preprocessor = Pipeline([\n",
    "        (\"char_term_frequency\", CountVectorizer()),\n",
    "        ('union', FeatureUnion([\n",
    "            ('random_binary_projection_hasher_{}'.format(t), MyRBP())\n",
    "            for t in range(T)\n",
    "        ]))\n",
    "    ])\n",
    "    \n",
    "    params = dict()\n",
    "    params.update(char_term_frequency_params)\n",
    "    params.update(hashing_feature_union_params)\n",
    "    preprocessor.set_params(**params)\n",
    "    return preprocessor"
   ]
  },
  {
   "cell_type": "code",
   "execution_count": null,
   "metadata": {},
   "outputs": [
    {
     "data": {
      "text/plain": [
       "<4x1120 sparse matrix of type '<class 'numpy.bool_'>'\n",
       "\twith 2260 stored elements in Compressed Sparse Row format>"
      ]
     },
     "execution_count": null,
     "metadata": {},
     "output_type": "execute_result"
    }
   ],
   "source": [
    "preprocessor = build_preprocessor()\n",
    "preprocessor.fit_transform([\"Esta es na pruebs\",\"fadsf\", \"Oh no fasd\", \"fasdfaaaaaaaa\" ])"
   ]
  },
  {
   "cell_type": "code",
   "execution_count": null,
   "metadata": {},
   "outputs": [
    {
     "name": "stderr",
     "output_type": "stream",
     "text": [
      "/home/andres/src/miniconda3/envs/speechActs/lib/python3.7/site-packages/tensorflow/python/framework/dtypes.py:516: FutureWarning: Passing (type, 1) or '1type' as a synonym of type is deprecated; in a future version of numpy, it will be understood as (type, (1,)) / '(1,)type'.\n",
      "  _np_qint8 = np.dtype([(\"qint8\", np.int8, 1)])\n",
      "/home/andres/src/miniconda3/envs/speechActs/lib/python3.7/site-packages/tensorflow/python/framework/dtypes.py:517: FutureWarning: Passing (type, 1) or '1type' as a synonym of type is deprecated; in a future version of numpy, it will be understood as (type, (1,)) / '(1,)type'.\n",
      "  _np_quint8 = np.dtype([(\"quint8\", np.uint8, 1)])\n",
      "/home/andres/src/miniconda3/envs/speechActs/lib/python3.7/site-packages/tensorflow/python/framework/dtypes.py:518: FutureWarning: Passing (type, 1) or '1type' as a synonym of type is deprecated; in a future version of numpy, it will be understood as (type, (1,)) / '(1,)type'.\n",
      "  _np_qint16 = np.dtype([(\"qint16\", np.int16, 1)])\n",
      "/home/andres/src/miniconda3/envs/speechActs/lib/python3.7/site-packages/tensorflow/python/framework/dtypes.py:519: FutureWarning: Passing (type, 1) or '1type' as a synonym of type is deprecated; in a future version of numpy, it will be understood as (type, (1,)) / '(1,)type'.\n",
      "  _np_quint16 = np.dtype([(\"quint16\", np.uint16, 1)])\n",
      "/home/andres/src/miniconda3/envs/speechActs/lib/python3.7/site-packages/tensorflow/python/framework/dtypes.py:520: FutureWarning: Passing (type, 1) or '1type' as a synonym of type is deprecated; in a future version of numpy, it will be understood as (type, (1,)) / '(1,)type'.\n",
      "  _np_qint32 = np.dtype([(\"qint32\", np.int32, 1)])\n",
      "/home/andres/src/miniconda3/envs/speechActs/lib/python3.7/site-packages/tensorflow/python/framework/dtypes.py:525: FutureWarning: Passing (type, 1) or '1type' as a synonym of type is deprecated; in a future version of numpy, it will be understood as (type, (1,)) / '(1,)type'.\n",
      "  np_resource = np.dtype([(\"resource\", np.ubyte, 1)])\n",
      "/home/andres/src/miniconda3/envs/speechActs/lib/python3.7/site-packages/tensorboard/compat/tensorflow_stub/dtypes.py:541: FutureWarning: Passing (type, 1) or '1type' as a synonym of type is deprecated; in a future version of numpy, it will be understood as (type, (1,)) / '(1,)type'.\n",
      "  _np_qint8 = np.dtype([(\"qint8\", np.int8, 1)])\n",
      "/home/andres/src/miniconda3/envs/speechActs/lib/python3.7/site-packages/tensorboard/compat/tensorflow_stub/dtypes.py:542: FutureWarning: Passing (type, 1) or '1type' as a synonym of type is deprecated; in a future version of numpy, it will be understood as (type, (1,)) / '(1,)type'.\n",
      "  _np_quint8 = np.dtype([(\"quint8\", np.uint8, 1)])\n",
      "/home/andres/src/miniconda3/envs/speechActs/lib/python3.7/site-packages/tensorboard/compat/tensorflow_stub/dtypes.py:543: FutureWarning: Passing (type, 1) or '1type' as a synonym of type is deprecated; in a future version of numpy, it will be understood as (type, (1,)) / '(1,)type'.\n",
      "  _np_qint16 = np.dtype([(\"qint16\", np.int16, 1)])\n",
      "/home/andres/src/miniconda3/envs/speechActs/lib/python3.7/site-packages/tensorboard/compat/tensorflow_stub/dtypes.py:544: FutureWarning: Passing (type, 1) or '1type' as a synonym of type is deprecated; in a future version of numpy, it will be understood as (type, (1,)) / '(1,)type'.\n",
      "  _np_quint16 = np.dtype([(\"quint16\", np.uint16, 1)])\n",
      "/home/andres/src/miniconda3/envs/speechActs/lib/python3.7/site-packages/tensorboard/compat/tensorflow_stub/dtypes.py:545: FutureWarning: Passing (type, 1) or '1type' as a synonym of type is deprecated; in a future version of numpy, it will be understood as (type, (1,)) / '(1,)type'.\n",
      "  _np_qint32 = np.dtype([(\"qint32\", np.int32, 1)])\n",
      "/home/andres/src/miniconda3/envs/speechActs/lib/python3.7/site-packages/tensorboard/compat/tensorflow_stub/dtypes.py:550: FutureWarning: Passing (type, 1) or '1type' as a synonym of type is deprecated; in a future version of numpy, it will be understood as (type, (1,)) / '(1,)type'.\n",
      "  np_resource = np.dtype([(\"resource\", np.ubyte, 1)])\n"
     ]
    }
   ],
   "source": [
    "#export\n",
    "import tensorflow as tf\n",
    "\n",
    "def build_keras_model(train_labels):\n",
    "    model = tf.keras.Sequential()\n",
    "    model.add(tf.keras.layers.Dense(256, activation=tf.nn.sigmoid, input_shape=(1120,)))\n",
    "    model.add(tf.keras.layers.Dropout(0.25))\n",
    "    model.add(tf.keras.layers.Dense(256, activation=tf.nn.sigmoid))\n",
    "    model.add(tf.keras.layers.Dropout(0.25))\n",
    "    model.add(tf.keras.layers.Dense(train_labels.shape[1], activation=tf.nn.softmax))\n",
    "\n",
    "    # Cosine annealing decay\n",
    "    lr_schedule = tf.keras.experimental.CosineDecay(0.025, decay_steps=1000000)\n",
    "    # SGD optimizer with Nesterov momentum\n",
    "    opt = tf.keras.optimizers.SGD(nesterov=True, learning_rate=lr_schedule)\n",
    "    #opt = tf.keras.optimizers.SGD(nesterov=True)\n",
    "    model.compile(loss='categorical_crossentropy',\n",
    "                  optimizer=opt,\n",
    "                  metrics=['accuracy'])\n",
    "\n",
    "    return model"
   ]
  },
  {
   "cell_type": "code",
   "execution_count": null,
   "metadata": {},
   "outputs": [],
   "source": [
    "#export\n",
    "EPOCHS=50\n",
    "BATCH_SIZE=100\n",
    "data_filepath = \"/home/andres/repositories/SGNN/data/swda-acttags-and-text.csv\"\n",
    "\n",
    "def main():\n",
    "    X, y = import_data(data_filepath)\n",
    "    X_train, X_test, y_train, y_test = train_test_split(X, y, test_size=0.2, stratify=y)\n",
    "    \n",
    "    # Convert categories to one-hot-encodings, as apparently needed by keras\n",
    "    train_labels = tf.keras.utils.to_categorical(y_train)\n",
    "    test_labels = tf.keras.utils.to_categorical(y_test)\n",
    "    \n",
    "    preprocessor = build_preprocessor()\n",
    "    keras_model = build_keras_model(train_labels)\n",
    "    \n",
    "    train_features = preprocessor.fit_transform(X_train)\n",
    "\n",
    "    keras_model.fit(train_features, train_labels, epochs=EPOCHS, batch_size=BATCH_SIZE)\n",
    "    test_features = preprocessor.transform(X_test)\n",
    "    keras_model.evaluate(test_features, test_labels)"
   ]
  },
  {
   "cell_type": "code",
   "execution_count": null,
   "metadata": {},
   "outputs": [
    {
     "name": "stdout",
     "output_type": "stream",
     "text": [
      "WARNING:tensorflow:From /home/andres/src/miniconda3/envs/speechActs/lib/python3.7/site-packages/tensorflow/python/ops/init_ops.py:1251: calling VarianceScaling.__init__ (from tensorflow.python.ops.init_ops) with dtype is deprecated and will be removed in a future version.\n",
      "Instructions for updating:\n",
      "Call initializer instance with the dtype argument instead of passing it to the constructor\n",
      "Epoch 1/50\n",
      "177288/177288 [==============================] - 7s 39us/sample - loss: 1.8825 - acc: 0.4903\n",
      "Epoch 2/50\n",
      "177288/177288 [==============================] - 7s 39us/sample - loss: 1.6075 - acc: 0.5464\n",
      "Epoch 3/50\n",
      "177288/177288 [==============================] - 8s 42us/sample - loss: 1.5196 - acc: 0.5623\n",
      "Epoch 4/50\n",
      "177288/177288 [==============================] - 9s 49us/sample - loss: 1.4612 - acc: 0.5729\n",
      "Epoch 5/50\n",
      "177288/177288 [==============================] - 8s 43us/sample - loss: 1.4110 - acc: 0.5849\n",
      "Epoch 6/50\n",
      "177288/177288 [==============================] - 7s 39us/sample - loss: 1.3655 - acc: 0.5959\n",
      "Epoch 7/50\n",
      "177288/177288 [==============================] - 7s 40us/sample - loss: 1.3242 - acc: 0.6057\n",
      "Epoch 8/50\n",
      "177288/177288 [==============================] - 7s 39us/sample - loss: 1.2922 - acc: 0.6128\n",
      "Epoch 9/50\n",
      "177288/177288 [==============================] - 6s 35us/sample - loss: 1.2632 - acc: 0.6200\n",
      "Epoch 10/50\n",
      "177288/177288 [==============================] - 6s 35us/sample - loss: 1.2404 - acc: 0.6259\n",
      "Epoch 11/50\n",
      "177288/177288 [==============================] - 6s 35us/sample - loss: 1.2228 - acc: 0.6303\n",
      "Epoch 12/50\n",
      "177288/177288 [==============================] - 6s 36us/sample - loss: 1.2043 - acc: 0.6351\n",
      "Epoch 13/50\n",
      "177288/177288 [==============================] - 6s 36us/sample - loss: 1.1915 - acc: 0.6369\n",
      "Epoch 14/50\n",
      "177288/177288 [==============================] - 6s 36us/sample - loss: 1.1799 - acc: 0.6403\n",
      "Epoch 15/50\n",
      "177288/177288 [==============================] - 7s 38us/sample - loss: 1.1686 - acc: 0.6428\n",
      "Epoch 16/50\n",
      "177288/177288 [==============================] - 7s 40us/sample - loss: 1.1597 - acc: 0.6450\n",
      "Epoch 17/50\n",
      "177288/177288 [==============================] - 7s 39us/sample - loss: 1.1513 - acc: 0.6473\n",
      "Epoch 18/50\n",
      "177288/177288 [==============================] - 8s 44us/sample - loss: 1.1427 - acc: 0.6488\n",
      "Epoch 19/50\n",
      "177288/177288 [==============================] - 8s 44us/sample - loss: 1.1362 - acc: 0.6505\n",
      "Epoch 20/50\n",
      "177288/177288 [==============================] - 7s 41us/sample - loss: 1.1304 - acc: 0.6513\n",
      "Epoch 21/50\n",
      "177288/177288 [==============================] - 7s 40us/sample - loss: 1.1268 - acc: 0.6528\n",
      "Epoch 22/50\n",
      "177288/177288 [==============================] - 6s 36us/sample - loss: 1.1191 - acc: 0.6539\n",
      "Epoch 23/50\n",
      "177288/177288 [==============================] - 6s 36us/sample - loss: 1.1136 - acc: 0.6550\n",
      "Epoch 24/50\n",
      "177288/177288 [==============================] - 6s 35us/sample - loss: 1.1101 - acc: 0.6563\n",
      "Epoch 25/50\n",
      "177288/177288 [==============================] - 6s 36us/sample - loss: 1.1063 - acc: 0.6575\n",
      "Epoch 26/50\n",
      "177288/177288 [==============================] - 7s 39us/sample - loss: 1.1025 - acc: 0.6581\n",
      "Epoch 27/50\n",
      "177288/177288 [==============================] - 7s 42us/sample - loss: 1.0987 - acc: 0.6601\n",
      "Epoch 28/50\n",
      "177288/177288 [==============================] - 7s 41us/sample - loss: 1.0951 - acc: 0.6606\n",
      "Epoch 29/50\n",
      "177288/177288 [==============================] - 7s 42us/sample - loss: 1.0917 - acc: 0.6605\n",
      "Epoch 30/50\n",
      "177288/177288 [==============================] - 7s 41us/sample - loss: 1.0883 - acc: 0.6623\n",
      "Epoch 31/50\n",
      "177288/177288 [==============================] - 7s 37us/sample - loss: 1.0859 - acc: 0.6627\n",
      "Epoch 32/50\n",
      "177288/177288 [==============================] - 7s 39us/sample - loss: 1.0836 - acc: 0.6621\n",
      "Epoch 33/50\n",
      "177288/177288 [==============================] - 7s 41us/sample - loss: 1.0789 - acc: 0.6645\n",
      "Epoch 34/50\n",
      "177288/177288 [==============================] - 7s 40us/sample - loss: 1.0785 - acc: 0.6633\n",
      "Epoch 35/50\n",
      "177288/177288 [==============================] - 7s 38us/sample - loss: 1.0750 - acc: 0.6652\n",
      "Epoch 36/50\n",
      "177288/177288 [==============================] - 6s 35us/sample - loss: 1.0723 - acc: 0.6656\n",
      "Epoch 37/50\n",
      "177288/177288 [==============================] - 6s 36us/sample - loss: 1.0713 - acc: 0.6671\n",
      "Epoch 38/50\n",
      "177288/177288 [==============================] - 7s 38us/sample - loss: 1.0671 - acc: 0.6665\n",
      "Epoch 39/50\n",
      "177288/177288 [==============================] - 6s 35us/sample - loss: 1.0667 - acc: 0.6671\n",
      "Epoch 40/50\n",
      "177288/177288 [==============================] - 6s 36us/sample - loss: 1.0637 - acc: 0.6670\n",
      "Epoch 41/50\n",
      "177288/177288 [==============================] - 7s 37us/sample - loss: 1.0625 - acc: 0.6684\n",
      "Epoch 42/50\n",
      "177288/177288 [==============================] - 6s 35us/sample - loss: 1.0602 - acc: 0.6689\n",
      "Epoch 43/50\n",
      "177288/177288 [==============================] - 6s 36us/sample - loss: 1.0576 - acc: 0.6691\n",
      "Epoch 44/50\n",
      "177288/177288 [==============================] - 6s 36us/sample - loss: 1.0561 - acc: 0.6692\n",
      "Epoch 45/50\n",
      "177288/177288 [==============================] - 7s 37us/sample - loss: 1.0544 - acc: 0.6697\n",
      "Epoch 46/50\n",
      "177288/177288 [==============================] - 6s 36us/sample - loss: 1.0523 - acc: 0.6711\n",
      "Epoch 47/50\n",
      "177288/177288 [==============================] - 6s 36us/sample - loss: 1.0509 - acc: 0.6706\n",
      "Epoch 48/50\n",
      "177288/177288 [==============================] - 6s 37us/sample - loss: 1.0500 - acc: 0.6709\n",
      "Epoch 49/50\n",
      "177288/177288 [==============================] - 6s 37us/sample - loss: 1.0465 - acc: 0.6713\n",
      "Epoch 50/50\n",
      "177288/177288 [==============================] - 6s 35us/sample - loss: 1.0465 - acc: 0.6724\n",
      "44322/44322 [==============================] - 2s 37us/sample - loss: 1.0368 - acc: 0.6713\n"
     ]
    }
   ],
   "source": [
    "#export\n",
    "main()"
   ]
  },
  {
   "cell_type": "code",
   "execution_count": null,
   "metadata": {},
   "outputs": [],
   "source": []
  }
 ],
 "metadata": {
  "kernelspec": {
   "display_name": "Python 3",
   "language": "python",
   "name": "python3"
  }
 },
 "nbformat": 4,
 "nbformat_minor": 2
}
