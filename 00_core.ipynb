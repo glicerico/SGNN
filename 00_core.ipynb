{
 "cells": [
  {
   "cell_type": "code",
   "execution_count": null,
   "metadata": {},
   "outputs": [],
   "source": [
    "# default_exp core"
   ]
  },
  {
   "cell_type": "markdown",
   "metadata": {},
   "source": [
    "# SGNN\n",
    "\n",
    "> Implementation of Self-Governing Neural Networks for speech act classification\n",
    "\n",
    "## Implementation of the [SGNN paper](https://www.aclweb.org/anthology/D19-1402.pdf) for speech act classification.\n",
    "This repository is inspired by Guillaume Chevalier's [implementation](https://github.com/guillaume-chevalier/SGNN-Self-Governing-Neural-Networks-Projection-Layer), as well as his [discussion](https://github.com/guillaume-chevalier/SGNN-Self-Governing-Neural-Networks-Projection-Layer/issues/1) with [Sava Kalbachou](https://github.com/thinline).\n",
    "This version implements some things differently from Guillaume's code, in an attempt to resemble the paper more, and extends beyond the projection layer all the way to a fully trainable network.\n",
    "\n",
    "The network is trained to classify the [SwDA corpus](https://web.stanford.edu/~jurafsky/ws97/) utterances according to their speech act. The corpus was was pre-processed using Cristopher Pott's [project](https://github.com/cgpotts/swda/) related to it. To follow Lee & Dernoncourt SwDA data split, as in the SGNN paper, we added [adequate functionality](https://github.com/glicerico/swda/blob/data_split/create_sets.py) in our [branch](https://github.com/glicerico/swda/tree/data_split) of that repo. The pre-processed data is included in the [`data`](data) folder for repeateability."
   ]
  },
  {
   "cell_type": "code",
   "execution_count": null,
   "metadata": {},
   "outputs": [],
   "source": [
    "#hide\n",
    "from nbdev.showdoc import *"
   ]
  },
  {
   "cell_type": "markdown",
   "metadata": {},
   "source": [
    "## Required modules"
   ]
  },
  {
   "cell_type": "code",
   "execution_count": null,
   "metadata": {},
   "outputs": [
    {
     "name": "stderr",
     "output_type": "stream",
     "text": [
      "/home/andres/src/miniconda3/envs/speechActs/lib/python3.7/site-packages/tensorflow/python/framework/dtypes.py:516: FutureWarning: Passing (type, 1) or '1type' as a synonym of type is deprecated; in a future version of numpy, it will be understood as (type, (1,)) / '(1,)type'.\n",
      "  _np_qint8 = np.dtype([(\"qint8\", np.int8, 1)])\n",
      "/home/andres/src/miniconda3/envs/speechActs/lib/python3.7/site-packages/tensorflow/python/framework/dtypes.py:517: FutureWarning: Passing (type, 1) or '1type' as a synonym of type is deprecated; in a future version of numpy, it will be understood as (type, (1,)) / '(1,)type'.\n",
      "  _np_quint8 = np.dtype([(\"quint8\", np.uint8, 1)])\n",
      "/home/andres/src/miniconda3/envs/speechActs/lib/python3.7/site-packages/tensorflow/python/framework/dtypes.py:518: FutureWarning: Passing (type, 1) or '1type' as a synonym of type is deprecated; in a future version of numpy, it will be understood as (type, (1,)) / '(1,)type'.\n",
      "  _np_qint16 = np.dtype([(\"qint16\", np.int16, 1)])\n",
      "/home/andres/src/miniconda3/envs/speechActs/lib/python3.7/site-packages/tensorflow/python/framework/dtypes.py:519: FutureWarning: Passing (type, 1) or '1type' as a synonym of type is deprecated; in a future version of numpy, it will be understood as (type, (1,)) / '(1,)type'.\n",
      "  _np_quint16 = np.dtype([(\"quint16\", np.uint16, 1)])\n",
      "/home/andres/src/miniconda3/envs/speechActs/lib/python3.7/site-packages/tensorflow/python/framework/dtypes.py:520: FutureWarning: Passing (type, 1) or '1type' as a synonym of type is deprecated; in a future version of numpy, it will be understood as (type, (1,)) / '(1,)type'.\n",
      "  _np_qint32 = np.dtype([(\"qint32\", np.int32, 1)])\n",
      "/home/andres/src/miniconda3/envs/speechActs/lib/python3.7/site-packages/tensorflow/python/framework/dtypes.py:525: FutureWarning: Passing (type, 1) or '1type' as a synonym of type is deprecated; in a future version of numpy, it will be understood as (type, (1,)) / '(1,)type'.\n",
      "  np_resource = np.dtype([(\"resource\", np.ubyte, 1)])\n",
      "/home/andres/src/miniconda3/envs/speechActs/lib/python3.7/site-packages/tensorboard/compat/tensorflow_stub/dtypes.py:541: FutureWarning: Passing (type, 1) or '1type' as a synonym of type is deprecated; in a future version of numpy, it will be understood as (type, (1,)) / '(1,)type'.\n",
      "  _np_qint8 = np.dtype([(\"qint8\", np.int8, 1)])\n",
      "/home/andres/src/miniconda3/envs/speechActs/lib/python3.7/site-packages/tensorboard/compat/tensorflow_stub/dtypes.py:542: FutureWarning: Passing (type, 1) or '1type' as a synonym of type is deprecated; in a future version of numpy, it will be understood as (type, (1,)) / '(1,)type'.\n",
      "  _np_quint8 = np.dtype([(\"quint8\", np.uint8, 1)])\n",
      "/home/andres/src/miniconda3/envs/speechActs/lib/python3.7/site-packages/tensorboard/compat/tensorflow_stub/dtypes.py:543: FutureWarning: Passing (type, 1) or '1type' as a synonym of type is deprecated; in a future version of numpy, it will be understood as (type, (1,)) / '(1,)type'.\n",
      "  _np_qint16 = np.dtype([(\"qint16\", np.int16, 1)])\n",
      "/home/andres/src/miniconda3/envs/speechActs/lib/python3.7/site-packages/tensorboard/compat/tensorflow_stub/dtypes.py:544: FutureWarning: Passing (type, 1) or '1type' as a synonym of type is deprecated; in a future version of numpy, it will be understood as (type, (1,)) / '(1,)type'.\n",
      "  _np_quint16 = np.dtype([(\"quint16\", np.uint16, 1)])\n",
      "/home/andres/src/miniconda3/envs/speechActs/lib/python3.7/site-packages/tensorboard/compat/tensorflow_stub/dtypes.py:545: FutureWarning: Passing (type, 1) or '1type' as a synonym of type is deprecated; in a future version of numpy, it will be understood as (type, (1,)) / '(1,)type'.\n",
      "  _np_qint32 = np.dtype([(\"qint32\", np.int32, 1)])\n",
      "/home/andres/src/miniconda3/envs/speechActs/lib/python3.7/site-packages/tensorboard/compat/tensorflow_stub/dtypes.py:550: FutureWarning: Passing (type, 1) or '1type' as a synonym of type is deprecated; in a future version of numpy, it will be understood as (type, (1,)) / '(1,)type'.\n",
      "  np_resource = np.dtype([(\"resource\", np.ubyte, 1)])\n"
     ]
    }
   ],
   "source": [
    "#export\n",
    "import functools\n",
    "import random as rand\n",
    "import re\n",
    "\n",
    "from livelossplot import PlotLossesKerasTF\n",
    "from nearpy.hashes import RandomBinaryProjections\n",
    "from nltk.util import skipgrams\n",
    "import numpy as np\n",
    "import pandas as pd\n",
    "import scipy.sparse as sp\n",
    "from sklearn.base import BaseEstimator\n",
    "from sklearn.feature_extraction.text import CountVectorizer\n",
    "from sklearn.model_selection import train_test_split\n",
    "from sklearn.pipeline import Pipeline, FeatureUnion\n",
    "from sklearn.preprocessing import LabelEncoder\n",
    "import tensorflow as tf\n",
    "import tensorflow.keras as keras"
   ]
  },
  {
   "cell_type": "markdown",
   "metadata": {},
   "source": [
    "## Import data from file"
   ]
  },
  {
   "cell_type": "code",
   "execution_count": null,
   "metadata": {},
   "outputs": [],
   "source": [
    "#export\n",
    "def import_data(filepath):\n",
    "    \"\"\"\n",
    "    Imports data from file and removes empty entries\n",
    "    :param filepath:  Path to file with SwDa utterances in format \"ActTag,Text\"\n",
    "    :return:          pandas dataframe with the data\n",
    "    \"\"\"\n",
    "    data = pd.read_csv(filepath)\n",
    "    data = data.dropna(axis=0)  # Drop rows with NA values\n",
    "    \n",
    "    return data\n",
    "    "
   ]
  },
  {
   "cell_type": "markdown",
   "metadata": {},
   "source": [
    "## Preprocess data, and divide it in train, validation and test sets"
   ]
  },
  {
   "cell_type": "code",
   "execution_count": null,
   "metadata": {},
   "outputs": [],
   "source": [
    "#export    \n",
    "def preprocess_data(data, lowercase=False, clean=False, remove_continuations=True):\n",
    "    \"\"\"\n",
    "    Preprocess the data according to parameters. \n",
    "    Divides the data into training, validation and test sets.\n",
    "    \n",
    "    :param data:  Pandas dataframe imported by `import_data`\n",
    "    Optional:\n",
    "    :param lowercase:  Convert all text to lowercase\n",
    "    :param clean:  Remove punctuation marks and non-verbal utterances\n",
    "    :param remove_continuations:  Remove utterances with act tag \"+\"\n",
    "    \n",
    "    :return:  Pandas series with training, validation and test tags and utterances\n",
    "    \"\"\"\n",
    "    if lowercase:\n",
    "        data['Text'] = data['Text'].str.lower()\n",
    "    if clean:\n",
    "        # Remove punctuation\n",
    "        data['Text'] = [re.sub('[(|)|#|.]', '', line) for line in data['Text']]\n",
    "        # Remove dashes and words in angle brackets (e.g. \"<Laughter>\")\n",
    "        data['Text'] = [re.sub('\\W-+\\W|<\\w+>', ' ', line) for line in data['Text']]\n",
    "    if remove_continuations:\n",
    "        data = data[~(data.DamslActTag == '+')]\n",
    "    \n",
    "    # Remove extra spaces\n",
    "    data['Text'] = [re.sub('\\s+', ' ', line) for line in data['Text']]\n",
    "    data = data[~(data.Text == ' ')]  # Remove data rows that end up empty after cleaning\n",
    "                            \n",
    "    X, y = data.Text, data.DamslActTag\n",
    "                            \n",
    "    return X, y\n"
   ]
  },
  {
   "cell_type": "markdown",
   "metadata": {},
   "source": [
    "## Transform RandomBinaryProjections to transformer"
   ]
  },
  {
   "cell_type": "code",
   "execution_count": null,
   "metadata": {},
   "outputs": [],
   "source": [
    "#export\n",
    "class Transformer_RBP(BaseEstimator, RandomBinaryProjections):\n",
    "    \"\"\"\n",
    "    Class that modifies RandomBinaryProjections to use as an sklearn transformer\n",
    "    \"\"\"\n",
    "    rand_seed = None  # Declare it as class variable\n",
    "    def __init__(self, hash_name='hasher', projection_count=1, rand_seed=None):\n",
    "        RandomBinaryProjections.__init__(self, hash_name, projection_count, rand_seed=rand_seed)\n",
    "        \n",
    "    def fit(self, X, y):\n",
    "        self.rand = np.random.RandomState(self.rand_seed)  # rand seed after param setting\n",
    "        self.reset(X.shape[1])\n",
    "        \n",
    "    def transform(self, X):\n",
    "        return self.hash_vector(X)\n",
    "\n",
    "    def fit_transform(self, X, y):\n",
    "        self.fit(X, y)\n",
    "        return self.transform(X)\n",
    "    \n",
    "    def hash_vector(self, v, querying=False):\n",
    "        \"\"\"\n",
    "        Hashes the vector and returns the binary bucket key as string.\n",
    "        \"\"\"\n",
    "        if sp.issparse(v):\n",
    "            # If vector is sparse, make sure we have the CSR representation\n",
    "            # of the projection matrix\n",
    "            if self.normals_csr is None:\n",
    "                self.normals_csr = sp.csr_matrix(self.normals)\n",
    "            # Make sure that we are using CSR format for multiplication\n",
    "            if not sp.isspmatrix_csr(v):\n",
    "                v = sp.csr_matrix(v)\n",
    "            # Project vector onto all hyperplane normals\n",
    "            # projection = self.normals_csr.dot(v)\n",
    "            projection = v.dot(sp.csr_matrix.transpose(self.normals_csr))\n",
    "        else:\n",
    "            # Project vector onto all hyperplane normals\n",
    "            projection = np.dot(v, np.matrix.transpose(self.normals))\n",
    "        # Return binary key\n",
    "        return projection > 0\n",
    "    "
   ]
  },
  {
   "cell_type": "markdown",
   "metadata": {},
   "source": [
    "## Create input layer projections\n",
    "This is the main contribution of the SGNN paper, and the implementation is inspired by Guillaume Chevalier's [implementation](https://github.com/guillaume-chevalier/SGNN-Self-Governing-Neural-Networks-Projection-Layer), as well as his [discussion](https://github.com/guillaume-chevalier/SGNN-Self-Governing-Neural-Networks-Projection-Layer/issues/1) with [Sava Kalbachou](https://github.com/thinline)."
   ]
  },
  {
   "cell_type": "code",
   "execution_count": null,
   "metadata": {},
   "outputs": [],
   "source": [
    "#export\n",
    "def build_input_layer(T=80, d=14):\n",
    "    \"\"\"\n",
    "    Transformer to build the input layer, in SGNN style.\n",
    "    Uses nltk skipgrams, and several Transformer_RBP layers as elements of the SGNN pipeline.\n",
    "    \"\"\"\n",
    "    # T=80 projections for each of dimension d=14: 80 * 14 = 1120-dimensionnal word projections\n",
    "\n",
    "    # Wrap skipgrams to use with CountVectorizer\n",
    "    skipper = functools.partial(skipgrams, n=3, k=2) # 2-skip-3-grams\n",
    "    # CountVectorizer params\n",
    "    char_term_frequency_params = {\n",
    "        'char_term_frequency__analyzer': skipper,\n",
    "        'char_term_frequency__min_df': 3,\n",
    "        'char_term_frequency__max_df': 0.9,\n",
    "        'char_term_frequency__max_features': int(1e7),\n",
    "    }\n",
    "\n",
    "    # Transformer_RBP params\n",
    "    rand_seeds = [rand.randint(0, T*100) for i in range(T)] # Need a different repeatable seed for each hasher\n",
    "    hashing_feature_union_params = {\n",
    "        **{'union__random_binary_projection_hasher_{}__projection_count'.format(t): d\n",
    "           for t in range(T)\n",
    "        },\n",
    "        **{'union__random_binary_projection_hasher_{}__hash_name'.format(t): 'hasher' + str(t)\n",
    "           for t in range(T)\n",
    "        },\n",
    "        **{'union__random_binary_projection_hasher_{}__rand_seed'.format(t): rand_seeds[t]  # only AFTER hashing.\n",
    "           for t in range(T)\n",
    "        }\n",
    "    }\n",
    "\n",
    "    # Pipeline to create input layer\n",
    "    preprocessor = Pipeline([\n",
    "        (\"char_term_frequency\", CountVectorizer()),\n",
    "        ('union', FeatureUnion([\n",
    "            ('random_binary_projection_hasher_{}'.format(t), Transformer_RBP())\n",
    "            for t in range(T)\n",
    "        ]))\n",
    "    ])\n",
    "    \n",
    "    params = dict()\n",
    "    params.update(char_term_frequency_params)\n",
    "    params.update(hashing_feature_union_params)\n",
    "    preprocessor.set_params(**params)\n",
    "    return preprocessor\n"
   ]
  },
  {
   "cell_type": "markdown",
   "metadata": {},
   "source": [
    "## Create keras model\n",
    "Following the SGNN paper's architecture"
   ]
  },
  {
   "cell_type": "code",
   "execution_count": null,
   "metadata": {},
   "outputs": [],
   "source": [
    "#export\n",
    "def build_keras_model(train_labels):\n",
    "    \"\"\"\n",
    "    Build keras model, with two hidden layers as the SGNN paper.\n",
    "    \"\"\"\n",
    "    model = keras.Sequential()\n",
    "#     model.add(keras.layers.Dropout(0.25, input_shape=(1120,)))\n",
    "#     model.add(keras.layers.Dense(256, activation=tf.nn.relu))\n",
    "    model.add(keras.layers.Dense(256, activation=tf.nn.sigmoid, input_shape=(1120,)))\n",
    "    model.add(keras.layers.Dropout(0.25))\n",
    "#     model.add(keras.layers.Dense(256, activation=tf.nn.relu))\n",
    "#     model.add(keras.layers.Dropout(0.25))\n",
    "    model.add(keras.layers.Dense(256, activation=tf.nn.sigmoid))\n",
    "    model.add(keras.layers.Dropout(0.25))\n",
    "    model.add(keras.layers.Dense(train_labels.shape[1], activation=tf.nn.softmax))\n",
    "\n",
    "    # Cosine annealing decay\n",
    "    lr_schedule = keras.experimental.CosineDecay(0.025, decay_steps=20000)\n",
    "    # SGD optimizer with Nesterov momentum\n",
    "    opt = keras.optimizers.SGD(nesterov=True, learning_rate=lr_schedule)\n",
    "#     opt = keras.optimizers.SGD(nesterov=True)\n",
    "    model.compile(loss='categorical_crossentropy',\n",
    "                  optimizer=opt,\n",
    "                  metrics=['accuracy'])\n",
    "\n",
    "    return model\n"
   ]
  },
  {
   "cell_type": "markdown",
   "metadata": {},
   "source": [
    "## Main process, putting together previous functions"
   ]
  },
  {
   "cell_type": "code",
   "execution_count": null,
   "metadata": {},
   "outputs": [],
   "source": [
    "#export\n",
    "def main(lowercase=False, clean=False, remove_continuations=True):\n",
    "    data_train = import_data(TRAIN_FILEPATH)\n",
    "    data_valid = import_data(VALID_FILEPATH)\n",
    "    data_test = import_data(TEST_FILEPATH)\n",
    "    X_train, y_train = preprocess_data(data_train, lowercase=lowercase, clean=clean,\n",
    "                                           remove_continuations=remove_continuations)\n",
    "    X_valid, y_valid = preprocess_data(data_valid, lowercase=lowercase, clean=clean,\n",
    "                                           remove_continuations=remove_continuations)\n",
    "    X_test, y_test = preprocess_data(data_test, lowercase=lowercase, clean=clean,\n",
    "                                         remove_continuations=remove_continuations)\n",
    "    \n",
    "    # Convert labels to categories\n",
    "    le = LabelEncoder()\n",
    "    y_train = le.fit_transform(y_train)\n",
    "    y_valid = le.transform(y_valid)\n",
    "    y_test = le.transform(y_test)\n",
    "    \n",
    "    # Convert categories to one-hot-encodings, as needed by keras\n",
    "    train_labels = keras.utils.to_categorical(y_train)\n",
    "    valid_labels = keras.utils.to_categorical(y_valid)\n",
    "    test_labels = keras.utils.to_categorical(y_test)\n",
    "    \n",
    "    # Pass text sets through input layer\n",
    "    input_layer = build_input_layer()\n",
    "    train_features = input_layer.fit_transform(X_train)\n",
    "    valid_features = input_layer.transform(X_valid)\n",
    "    test_features = input_layer.transform(X_test)\n",
    "    \n",
    "    # Define EarlyStopping and loss visualization\n",
    "    keras_callbacks = [tf.keras.callbacks.EarlyStopping(monitor='loss', patience=3, \n",
    "                                                        restore_best_weights=True),\n",
    "                       PlotLossesKerasTF()]\n",
    "    \n",
    "    # Fit and evaluate NN\n",
    "    keras_model = build_keras_model(train_labels)\n",
    "    keras_model.fit(train_features, train_labels, epochs=EPOCHS, \n",
    "                    batch_size=BATCH_SIZE, shuffle=True,\n",
    "                    validation_data=(valid_features, valid_labels),\n",
    "                    callbacks=keras_callbacks\n",
    "                   )\n",
    "#     keras_model.evaluate(test_features, test_labels)\n",
    "    "
   ]
  },
  {
   "cell_type": "code",
   "execution_count": null,
   "metadata": {},
   "outputs": [],
   "source": [
    "#export\n",
    "EPOCHS = 1000\n",
    "BATCH_SIZE = 100\n",
    "LOWERCASE=True\n",
    "CLEAN=True\n",
    "REMOVE_CONTINUATIONS=True\n",
    "TRAIN_FILEPATH = \"/home/andres/repositories/SGNN/data/train-acttags-and-text.csv\"\n",
    "VALID_FILEPATH = \"/home/andres/repositories/SGNN/data/valid-acttags-and-text.csv\"\n",
    "TEST_FILEPATH = \"/home/andres/repositories/SGNN/data/test-acttags-and-text.csv\""
   ]
  },
  {
   "cell_type": "code",
   "execution_count": null,
   "metadata": {},
   "outputs": [
    {
     "data": {
      "image/png": "[encoded data removed]",
      "text/plain": [
       "<Figure size 864x576 with 2 Axes>"
      ]
     },
     "metadata": {
      "needs_background": "light"
     },
     "output_type": "display_data"
    },
    {
     "name": "stdout",
     "output_type": "stream",
     "text": [
      "Accuracy\n",
      "\ttraining         \t (min:    0.527, max:    0.630, cur:    0.630)\n",
      "\tvalidation       \t (min:    0.590, max:    0.641, cur:    0.641)\n",
      "Loss\n",
      "\ttraining         \t (min:    1.268, max:    1.771, cur:    1.268)\n",
      "\tvalidation       \t (min:    1.228, max:    1.514, cur:    1.228)\n",
      "174677/174677 [==============================] - 7s 39us/sample - loss: 1.2678 - acc: 0.6302 - val_loss: 1.2276 - val_acc: 0.6406\n",
      "Epoch 10/1000\n",
      "167400/174677 [===========================>..] - ETA: 0s - loss: 1.2641 - acc: 0.6311"
     ]
    }
   ],
   "source": [
    "#hide\n",
    "main(lowercase=LOWERCASE, clean=CLEAN, remove_continuations=REMOVE_CONTINUATIONS)"
   ]
  },
  {
   "cell_type": "code",
   "execution_count": null,
   "metadata": {},
   "outputs": [],
   "source": []
  }
 ],
 "metadata": {
  "kernelspec": {
   "display_name": "Python 3",
   "language": "python",
   "name": "python3"
  }
 },
 "nbformat": 4,
 "nbformat_minor": 2
}
